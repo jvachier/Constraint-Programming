{
 "cells": [
  {
   "cell_type": "markdown",
   "metadata": {},
   "source": [
    "\n",
    "# Constraint Programming\n",
    "\n",
    "## Constraint Satisfaction Problem: Sudoku Example\n",
    "\n",
    "Author: jeremy vachier <br> \n",
    "Creation date: March 2023 <br>\n",
    "Publication date: March 2023 <br>\n",
    "\n",
    "Three key ingredients <br>\n",
    "- **Variable**: $x \\in X$ <br>\n",
    "- **Domain**: $\\{1,2,3,4,5,6,7,8,9\\}$<br>\n",
    "- **Constraints**: <br>\n",
    "    - All square 3 x 3 values are different \n",
    "    - All row values are different\n",
    "    - All column values are different"
   ]
  },
  {
   "cell_type": "code",
   "execution_count": 103,
   "metadata": {
    "_cell_guid": "b1076dfc-b9ad-4769-8c92-a6c4dae69d19",
    "_uuid": "8f2839f25d086af736a60e9eeb907d3b93b6e0e5",
    "execution": {
     "iopub.execute_input": "2023-03-18T14:35:36.670274Z",
     "iopub.status.busy": "2023-03-18T14:35:36.668221Z",
     "iopub.status.idle": "2023-03-18T14:35:36.683801Z",
     "shell.execute_reply": "2023-03-18T14:35:36.681579Z",
     "shell.execute_reply.started": "2023-03-18T14:35:36.670166Z"
    }
   },
   "outputs": [
    {
     "name": "stdout",
     "output_type": "stream",
     "text": [
      "/kaggle/input/sudoku/sudoku.csv\n"
     ]
    }
   ],
   "source": [
    "import numpy as np \n",
    "import pandas as pd \n",
    "from ortools.sat.python import cp_model"
   ]
  },
  {
   "cell_type": "code",
   "execution_count": 104,
   "metadata": {
    "execution": {
     "iopub.execute_input": "2023-03-18T14:35:36.687606Z",
     "iopub.status.busy": "2023-03-18T14:35:36.686849Z",
     "iopub.status.idle": "2023-03-18T14:35:36.697960Z",
     "shell.execute_reply": "2023-03-18T14:35:36.695899Z",
     "shell.execute_reply.started": "2023-03-18T14:35:36.687541Z"
    }
   },
   "outputs": [],
   "source": [
    "def reshape_sudoku(array):\n",
    "    return np.matrix([np.array(list(array[i:i+9])).astype(np.int) for i in range(0, len(array), 9)])"
   ]
  },
  {
   "cell_type": "code",
   "execution_count": 105,
   "metadata": {
    "execution": {
     "iopub.execute_input": "2023-03-18T14:35:36.700228Z",
     "iopub.status.busy": "2023-03-18T14:35:36.699638Z",
     "iopub.status.idle": "2023-03-18T14:35:36.717425Z",
     "shell.execute_reply": "2023-03-18T14:35:36.714690Z",
     "shell.execute_reply.started": "2023-03-18T14:35:36.700193Z"
    }
   },
   "outputs": [],
   "source": [
    "def solution_sudoku(sudoko_matrix):\n",
    "    model = cp_model.CpModel()\n",
    "    x = {}\n",
    "    for i in range(9):\n",
    "        for j in range(9):\n",
    "            if sudoko_matrix[i,j] != 0:\n",
    "                x[i,j] = sudoko_matrix[i,j]\n",
    "            else:\n",
    "                x[i,j] = model.NewIntVar(1,9,\"x[{}{}]\".format(i, j))\n",
    "    # Three Constraints\n",
    "    # All row values are different\n",
    "    [model.AddAllDifferent([x[i,j] for j in range(9)]) for i in range(9)]\n",
    "    # All column values are different\n",
    "    [model.AddAllDifferent([x[i,j] for i in range(9)]) for j in range(9)]\n",
    "    # All square 3 x 3 values are different\n",
    "    for row_grid in range(0,9,3):\n",
    "        for col_grid in range(0,9,3):\n",
    "            [model.AddAllDifferent([x[row_grid+i,col_grid+j] for j in range(3) for i in range(3)])]\n",
    "    solver = cp_model.CpSolver()\n",
    "    status = solver.Solve(model)\n",
    "    result = np.zeros((9,9))\n",
    "    if status == cp_model.FEASIBLE or status == cp_model.OPTIMAL:\n",
    "        for i in range(9):\n",
    "            for j in range(9):\n",
    "                result[i,j] = solver.Value(x[i,j])\n",
    "    else:\n",
    "        print('Infeasible solution or Invalid model')\n",
    "    return result"
   ]
  },
  {
   "cell_type": "code",
   "execution_count": 106,
   "metadata": {
    "execution": {
     "iopub.execute_input": "2023-03-18T14:35:36.721340Z",
     "iopub.status.busy": "2023-03-18T14:35:36.720774Z",
     "iopub.status.idle": "2023-03-18T14:35:59.501247Z",
     "shell.execute_reply": "2023-03-18T14:35:59.499477Z",
     "shell.execute_reply.started": "2023-03-18T14:35:36.721261Z"
    }
   },
   "outputs": [],
   "source": [
    "df_sudoku = pd.read_csv(\"./sudoku.csv\")"
   ]
  },
  {
   "cell_type": "code",
   "execution_count": 107,
   "metadata": {
    "execution": {
     "iopub.execute_input": "2023-03-18T14:35:59.506044Z",
     "iopub.status.busy": "2023-03-18T14:35:59.505576Z",
     "iopub.status.idle": "2023-03-18T14:35:59.927093Z",
     "shell.execute_reply": "2023-03-18T14:35:59.925039Z",
     "shell.execute_reply.started": "2023-03-18T14:35:59.506001Z"
    }
   },
   "outputs": [
    {
     "name": "stdout",
     "output_type": "stream",
     "text": [
      "070000043040009610800634900094052000358460020000800530080070091902100005007040802 \n",
      " 679518243543729618821634957794352186358461729216897534485276391962183475137945862\n"
     ]
    }
   ],
   "source": [
    "numpy_sudoku_puzzle = df_sudoku['puzzle'].to_numpy()\n",
    "numpy_sudoku_solution = df_sudoku['solution'].to_numpy()\n",
    "print(numpy_sudoku_puzzle[0],'\\n',numpy_sudoku_solution[0])"
   ]
  },
  {
   "cell_type": "code",
   "execution_count": 108,
   "metadata": {
    "execution": {
     "iopub.execute_input": "2023-03-18T14:35:59.929986Z",
     "iopub.status.busy": "2023-03-18T14:35:59.929461Z",
     "iopub.status.idle": "2023-03-18T14:35:59.942091Z",
     "shell.execute_reply": "2023-03-18T14:35:59.940196Z",
     "shell.execute_reply.started": "2023-03-18T14:35:59.929929Z"
    }
   },
   "outputs": [
    {
     "name": "stderr",
     "output_type": "stream",
     "text": [
      "/opt/conda/lib/python3.7/site-packages/ipykernel_launcher.py:2: DeprecationWarning: `np.int` is a deprecated alias for the builtin `int`. To silence this warning, use `int` by itself. Doing this will not modify any behavior and is safe. When replacing `np.int`, you may wish to use e.g. `np.int64` or `np.int32` to specify the precision. If you wish to review your current use, check the release note link for additional information.\n",
      "Deprecated in NumPy 1.20; for more details and guidance: https://numpy.org/devdocs/release/1.20.0-notes.html#deprecations\n",
      "  \n"
     ]
    }
   ],
   "source": [
    "sudoko_matrix0 = reshape_sudoku(numpy_sudoku_puzzle[0])\n",
    "sudoko_matrix_solution0 = reshape_sudoku(numpy_sudoku_solution[0])\n",
    "\n",
    "sudoko_matrix10 = reshape_sudoku(numpy_sudoku_puzzle[10])\n",
    "sudoko_matrix_solution10 = reshape_sudoku(numpy_sudoku_solution[10])\n",
    "\n",
    "sudoko_matrix100 = reshape_sudoku(numpy_sudoku_puzzle[100])\n",
    "sudoko_matrix_solution100 = reshape_sudoku(numpy_sudoku_solution[100])"
   ]
  },
  {
   "cell_type": "code",
   "execution_count": 109,
   "metadata": {
    "execution": {
     "iopub.execute_input": "2023-03-18T14:35:59.944627Z",
     "iopub.status.busy": "2023-03-18T14:35:59.943852Z",
     "iopub.status.idle": "2023-03-18T14:35:59.970250Z",
     "shell.execute_reply": "2023-03-18T14:35:59.969373Z",
     "shell.execute_reply.started": "2023-03-18T14:35:59.944577Z"
    }
   },
   "outputs": [],
   "source": [
    "result0 = solution_sudoku(sudoko_matrix0)\n",
    "result10 = solution_sudoku(sudoko_matrix10)\n",
    "result100 = solution_sudoku(sudoko_matrix100)"
   ]
  },
  {
   "cell_type": "code",
   "execution_count": 110,
   "metadata": {
    "execution": {
     "iopub.execute_input": "2023-03-18T14:35:59.973148Z",
     "iopub.status.busy": "2023-03-18T14:35:59.971661Z",
     "iopub.status.idle": "2023-03-18T14:35:59.984110Z",
     "shell.execute_reply": "2023-03-18T14:35:59.981886Z",
     "shell.execute_reply.started": "2023-03-18T14:35:59.973104Z"
    }
   },
   "outputs": [
    {
     "name": "stdout",
     "output_type": "stream",
     "text": [
      "[[6. 7. 9. 5. 1. 8. 2. 4. 3.]\n",
      " [5. 4. 3. 7. 2. 9. 6. 1. 8.]\n",
      " [8. 2. 1. 6. 3. 4. 9. 5. 7.]\n",
      " [7. 9. 4. 3. 5. 2. 1. 8. 6.]\n",
      " [3. 5. 8. 4. 6. 1. 7. 2. 9.]\n",
      " [2. 1. 6. 8. 9. 7. 5. 3. 4.]\n",
      " [4. 8. 5. 2. 7. 6. 3. 9. 1.]\n",
      " [9. 6. 2. 1. 8. 3. 4. 7. 5.]\n",
      " [1. 3. 7. 9. 4. 5. 8. 6. 2.]] \n",
      "\n",
      " [[4. 2. 5. 9. 7. 1. 3. 6. 8.]\n",
      " [1. 7. 3. 6. 2. 8. 5. 9. 4.]\n",
      " [8. 6. 9. 5. 4. 3. 1. 7. 2.]\n",
      " [2. 4. 1. 7. 9. 5. 8. 3. 6.]\n",
      " [7. 3. 6. 1. 8. 2. 9. 4. 5.]\n",
      " [9. 5. 8. 4. 3. 6. 7. 2. 1.]\n",
      " [5. 9. 7. 8. 6. 4. 2. 1. 3.]\n",
      " [3. 8. 4. 2. 1. 7. 6. 5. 9.]\n",
      " [6. 1. 2. 3. 5. 9. 4. 8. 7.]] \n",
      "\n",
      " [[2. 7. 8. 9. 3. 6. 1. 4. 5.]\n",
      " [9. 1. 3. 4. 8. 5. 7. 6. 2.]\n",
      " [4. 6. 5. 7. 2. 1. 9. 8. 3.]\n",
      " [5. 9. 2. 6. 7. 4. 8. 3. 1.]\n",
      " [8. 3. 1. 5. 9. 2. 4. 7. 6.]\n",
      " [6. 4. 7. 3. 1. 8. 5. 2. 9.]\n",
      " [1. 8. 4. 2. 6. 9. 3. 5. 7.]\n",
      " [7. 2. 9. 8. 5. 3. 6. 1. 4.]\n",
      " [3. 5. 6. 1. 4. 7. 2. 9. 8.]]\n"
     ]
    }
   ],
   "source": [
    "print(result0,'\\n\\n',result10,'\\n\\n',result100)"
   ]
  },
  {
   "cell_type": "code",
   "execution_count": 111,
   "metadata": {
    "execution": {
     "iopub.execute_input": "2023-03-18T14:35:59.986570Z",
     "iopub.status.busy": "2023-03-18T14:35:59.986009Z",
     "iopub.status.idle": "2023-03-18T14:35:59.996708Z",
     "shell.execute_reply": "2023-03-18T14:35:59.995894Z",
     "shell.execute_reply.started": "2023-03-18T14:35:59.986532Z"
    }
   },
   "outputs": [
    {
     "name": "stdout",
     "output_type": "stream",
     "text": [
      "For 0: If same result, then 0:\n",
      " [[0. 0. 0. 0. 0. 0. 0. 0. 0.]\n",
      " [0. 0. 0. 0. 0. 0. 0. 0. 0.]\n",
      " [0. 0. 0. 0. 0. 0. 0. 0. 0.]\n",
      " [0. 0. 0. 0. 0. 0. 0. 0. 0.]\n",
      " [0. 0. 0. 0. 0. 0. 0. 0. 0.]\n",
      " [0. 0. 0. 0. 0. 0. 0. 0. 0.]\n",
      " [0. 0. 0. 0. 0. 0. 0. 0. 0.]\n",
      " [0. 0. 0. 0. 0. 0. 0. 0. 0.]\n",
      " [0. 0. 0. 0. 0. 0. 0. 0. 0.]]\n"
     ]
    }
   ],
   "source": [
    "print('For 0: If same result, then 0:\\n',result0-sudoko_matrix_solution0)"
   ]
  },
  {
   "cell_type": "code",
   "execution_count": 112,
   "metadata": {
    "execution": {
     "iopub.execute_input": "2023-03-18T14:35:59.998625Z",
     "iopub.status.busy": "2023-03-18T14:35:59.997841Z",
     "iopub.status.idle": "2023-03-18T14:36:00.007332Z",
     "shell.execute_reply": "2023-03-18T14:36:00.004984Z",
     "shell.execute_reply.started": "2023-03-18T14:35:59.998594Z"
    }
   },
   "outputs": [
    {
     "name": "stdout",
     "output_type": "stream",
     "text": [
      "For 10: If same result, then 0:\n",
      " [[0. 0. 0. 0. 0. 0. 0. 0. 0.]\n",
      " [0. 0. 0. 0. 0. 0. 0. 0. 0.]\n",
      " [0. 0. 0. 0. 0. 0. 0. 0. 0.]\n",
      " [0. 0. 0. 0. 0. 0. 0. 0. 0.]\n",
      " [0. 0. 0. 0. 0. 0. 0. 0. 0.]\n",
      " [0. 0. 0. 0. 0. 0. 0. 0. 0.]\n",
      " [0. 0. 0. 0. 0. 0. 0. 0. 0.]\n",
      " [0. 0. 0. 0. 0. 0. 0. 0. 0.]\n",
      " [0. 0. 0. 0. 0. 0. 0. 0. 0.]]\n"
     ]
    }
   ],
   "source": [
    "print('For 10: If same result, then 0:\\n',result10-sudoko_matrix_solution10)"
   ]
  },
  {
   "cell_type": "code",
   "execution_count": 113,
   "metadata": {
    "execution": {
     "iopub.execute_input": "2023-03-18T14:36:00.009304Z",
     "iopub.status.busy": "2023-03-18T14:36:00.008845Z",
     "iopub.status.idle": "2023-03-18T14:36:00.025168Z",
     "shell.execute_reply": "2023-03-18T14:36:00.023672Z",
     "shell.execute_reply.started": "2023-03-18T14:36:00.009252Z"
    }
   },
   "outputs": [
    {
     "name": "stdout",
     "output_type": "stream",
     "text": [
      "For 100: If same result, then 0:\n",
      " [[0. 0. 0. 0. 0. 0. 0. 0. 0.]\n",
      " [0. 0. 0. 0. 0. 0. 0. 0. 0.]\n",
      " [0. 0. 0. 0. 0. 0. 0. 0. 0.]\n",
      " [0. 0. 0. 0. 0. 0. 0. 0. 0.]\n",
      " [0. 0. 0. 0. 0. 0. 0. 0. 0.]\n",
      " [0. 0. 0. 0. 0. 0. 0. 0. 0.]\n",
      " [0. 0. 0. 0. 0. 0. 0. 0. 0.]\n",
      " [0. 0. 0. 0. 0. 0. 0. 0. 0.]\n",
      " [0. 0. 0. 0. 0. 0. 0. 0. 0.]]\n"
     ]
    }
   ],
   "source": [
    "print('For 100: If same result, then 0:\\n',result100-sudoko_matrix_solution100)"
   ]
  }
 ],
 "metadata": {
  "kernelspec": {
   "display_name": "Python 3 (ipykernel)",
   "language": "python",
   "name": "python3"
  },
  "language_info": {
   "codemirror_mode": {
    "name": "ipython",
    "version": 3
   },
   "file_extension": ".py",
   "mimetype": "text/x-python",
   "name": "python",
   "nbconvert_exporter": "python",
   "pygments_lexer": "ipython3",
   "version": "3.7.12"
  }
 },
 "nbformat": 4,
 "nbformat_minor": 4
}
